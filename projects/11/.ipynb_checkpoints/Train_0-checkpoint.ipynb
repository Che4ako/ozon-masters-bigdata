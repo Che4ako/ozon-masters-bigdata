{
 "cells": [
  {
   "cell_type": "code",
   "execution_count": 20,
   "metadata": {},
   "outputs": [],
   "source": [
    "import pandas as pd\n",
    "from sklearn.preprocessing import StandardScaler, OneHotEncoder, LabelEncoder\n",
    "from sklearn.decomposition import PCA\n",
    "\n",
    "\n",
    "\n",
    "numeric_features = [\"if\"+str(i) for i in range(1,14)]\n",
    "categorical_features = [\"cf\"+str(i) for i in range(1,27)] + [\"day_number\"]\n",
    "\n",
    "\n",
    "fields = [\"id\", \"label\"] + numeric_features + categorical_features\n",
    "read_table_opts = dict(sep=\"\\t\", names=fields, index_col=False, iterator=True, chunksize=1000000)\n",
    "df_chunks = pd.read_csv('criteo_train1', **read_table_opts)"
   ]
  },
  {
   "cell_type": "code",
   "execution_count": 21,
   "metadata": {},
   "outputs": [],
   "source": [
    "onehotencoder = OneHotEncoder(sparse=False)\n",
    "labelencoder = LabelEncoder()\n",
    "standardscaler = StandardScaler()\n",
    "pca = PCA(n_components=100)\n"
   ]
  },
  {
   "cell_type": "code",
   "execution_count": 22,
   "metadata": {},
   "outputs": [],
   "source": [
    "df = df_chunks.get_chunk()\n",
    "#df = df.drop('day_number', axis=1)"
   ]
  },
  {
   "cell_type": "code",
   "execution_count": 71,
   "metadata": {},
   "outputs": [
    {
     "data": {
      "text/plain": [
       "label\n",
       "0    967506\n",
       "1     32494\n",
       "Name: id, dtype: int64"
      ]
     },
     "execution_count": 71,
     "metadata": {},
     "output_type": "execute_result"
    }
   ],
   "source": [
    "df.groupby('label')['id'].count()"
   ]
  },
  {
   "cell_type": "code",
   "execution_count": 23,
   "metadata": {},
   "outputs": [],
   "source": [
    "df.loc[:, [\"cf\"+str(i) for i in range(1,27)] + [\"day_number\"]] = df.loc[:, [\"cf\"+str(i) for i in range(1,27)] + [\"day_number\"]].fillna('missing')"
   ]
  },
  {
   "cell_type": "code",
   "execution_count": 24,
   "metadata": {},
   "outputs": [],
   "source": [
    "df.loc[:, [\"if\"+str(i) for i in range(1,14)]] = df.loc[:, [\"if\"+str(i) for i in range(1,14)]].fillna(df.loc[:, [\"if\"+str(i) for i in range(1,14)]].mean())"
   ]
  },
  {
   "cell_type": "code",
   "execution_count": 25,
   "metadata": {},
   "outputs": [],
   "source": [
    "df.loc[:, numeric_features] = standardscaler.fit_transform(df.loc[:, numeric_features])"
   ]
  },
  {
   "cell_type": "code",
   "execution_count": 26,
   "metadata": {},
   "outputs": [],
   "source": [
    "for i in categorical_features:\n",
    "    df.loc[:, i] = labelencoder.fit_transform(df.loc[:, i])"
   ]
  },
  {
   "cell_type": "code",
   "execution_count": 27,
   "metadata": {},
   "outputs": [],
   "source": [
    "from sklearn.ensemble import RandomForestClassifier"
   ]
  },
  {
   "cell_type": "code",
   "execution_count": 28,
   "metadata": {},
   "outputs": [],
   "source": [
    "clf = RandomForestClassifier(n_estimators=100, max_depth=2,\n",
    "                             random_state=0)"
   ]
  },
  {
   "cell_type": "code",
   "execution_count": 39,
   "metadata": {},
   "outputs": [],
   "source": [
    "from sklearn.model_selection import train_test_split\n",
    "\n",
    "X_train, X_test, y_train, y_test = train_test_split(\n",
    "    df.iloc[:, 2:], df.iloc[:,1], test_size=0.33, random_state=42, shuffle=True\n",
    ")"
   ]
  },
  {
   "cell_type": "code",
   "execution_count": 41,
   "metadata": {},
   "outputs": [
    {
     "name": "stdout",
     "output_type": "stream",
     "text": [
      "(670000, 40) (330000, 40) (670000,) (330000,)\n"
     ]
    }
   ],
   "source": [
    "print(X_train.shape, X_test.shape, y_train.shape, y_test.shape)"
   ]
  },
  {
   "cell_type": "code",
   "execution_count": 42,
   "metadata": {
    "scrolled": false
   },
   "outputs": [
    {
     "data": {
      "text/plain": [
       "RandomForestClassifier(bootstrap=True, class_weight=None, criterion='gini',\n",
       "                       max_depth=2, max_features='auto', max_leaf_nodes=None,\n",
       "                       min_impurity_decrease=0.0, min_impurity_split=None,\n",
       "                       min_samples_leaf=1, min_samples_split=2,\n",
       "                       min_weight_fraction_leaf=0.0, n_estimators=100,\n",
       "                       n_jobs=None, oob_score=False, random_state=0, verbose=0,\n",
       "                       warm_start=False)"
      ]
     },
     "execution_count": 42,
     "metadata": {},
     "output_type": "execute_result"
    }
   ],
   "source": [
    "clf.fit(X_train, y_train)"
   ]
  },
  {
   "cell_type": "code",
   "execution_count": 43,
   "metadata": {
    "scrolled": false
   },
   "outputs": [
    {
     "name": "stdout",
     "output_type": "stream",
     "text": [
      "if1 0.018411004727788602 2017\n",
      "if2 0.0 6492\n",
      "if3 0.003981815072381921 233\n",
      "if4 0.21900628583074191 4418\n",
      "if5 0.041430574646772605 1261\n",
      "if6 0.11868137849246256 248\n",
      "if7 0.0 129\n",
      "if8 0.0042184418576792 4017\n",
      "if9 0.0012358633191414039 110\n",
      "if10 0.14219476374741669 10\n",
      "if11 0.13299738857217633 141\n",
      "if12 0.08963686919478593 71606\n",
      "if13 0.10499314624341903 399\n",
      "cf1 0.00924027261185548 164494\n",
      "cf2 0.0004611214001201502 13594\n",
      "cf3 0.0003908203260821477 12850\n",
      "cf4 0.0 6455\n",
      "cf5 0.0 17166\n",
      "cf6 0.004315290319724144 3\n",
      "cf7 0.0 6210\n",
      "cf8 0.0 1182\n",
      "cf9 0.0 37\n",
      "cf10 0.0 131010\n",
      "cf11 0.002894192232940563 37416\n",
      "cf12 0.00030248387813817826 40045\n",
      "cf13 0.004632027926094178 10\n",
      "cf14 0.003314595044181624 1908\n",
      "cf15 0.0 5894\n",
      "cf16 0.0006924689746713105 57\n",
      "cf17 0.0 4\n",
      "cf18 0.0 869\n",
      "cf19 0.049822642615497015 14\n",
      "cf20 0.003856689288648717 176645\n",
      "cf21 0.002439480872377598 83829\n",
      "cf22 0.005940889647767128 152799\n",
      "cf23 0.006688799173083309 31515\n",
      "cf24 0.00014706422300884886 8340\n",
      "cf25 0.0008306096506928988 50\n",
      "cf26 0.027243020110350652 33\n",
      "day_number 0.0 1\n"
     ]
    }
   ],
   "source": [
    "nunique = X_train.nunique()\n",
    "d = {}\n",
    "for i in range(40):\n",
    "    print(X_train.columns[i], clf.feature_importances_[i], nunique[i])\n",
    "    d[X_train.columns[i]] = [clf.feature_importances_[i], nunique[i]]"
   ]
  },
  {
   "cell_type": "code",
   "execution_count": 44,
   "metadata": {},
   "outputs": [],
   "source": [
    "res_prob = clf.predict_proba(X_train)"
   ]
  },
  {
   "cell_type": "code",
   "execution_count": null,
   "metadata": {},
   "outputs": [],
   "source": [
    "res_prob = clf.predict_proba(X_train)"
   ]
  },
  {
   "cell_type": "code",
   "execution_count": 45,
   "metadata": {},
   "outputs": [],
   "source": [
    "test_prob = clf.predict_proba(X_test)"
   ]
  },
  {
   "cell_type": "code",
   "execution_count": 60,
   "metadata": {},
   "outputs": [],
   "source": [
    "test = test_prob[:, 1]"
   ]
  },
  {
   "cell_type": "code",
   "execution_count": 72,
   "metadata": {},
   "outputs": [
    {
     "data": {
      "text/plain": [
       "(330000,)"
      ]
     },
     "execution_count": 72,
     "metadata": {},
     "output_type": "execute_result"
    }
   ],
   "source": [
    "y_test.shape"
   ]
  },
  {
   "cell_type": "code",
   "execution_count": 76,
   "metadata": {},
   "outputs": [],
   "source": []
  },
  {
   "cell_type": "code",
   "execution_count": 74,
   "metadata": {},
   "outputs": [
    {
     "data": {
      "text/plain": [
       "array([0.05, 0.05, 0.05, ..., 0.05, 0.05, 0.05])"
      ]
     },
     "execution_count": 74,
     "metadata": {},
     "output_type": "execute_result"
    }
   ],
   "source": [
    "a"
   ]
  },
  {
   "cell_type": "code",
   "execution_count": 67,
   "metadata": {},
   "outputs": [
    {
     "data": {
      "text/plain": [
       "0.03243526763939177"
      ]
     },
     "execution_count": 67,
     "metadata": {},
     "output_type": "execute_result"
    }
   ],
   "source": [
    "test.mean()"
   ]
  },
  {
   "cell_type": "code",
   "execution_count": 68,
   "metadata": {},
   "outputs": [
    {
     "data": {
      "text/plain": [
       "pandas.core.series.Series"
      ]
     },
     "execution_count": 68,
     "metadata": {},
     "output_type": "execute_result"
    }
   ],
   "source": [
    "type(y_test)"
   ]
  },
  {
   "cell_type": "code",
   "execution_count": 78,
   "metadata": {},
   "outputs": [],
   "source": [
    "import numpy as np\n",
    "\n",
    "a = 0.03*np.ones(330000)"
   ]
  },
  {
   "cell_type": "code",
   "execution_count": 79,
   "metadata": {
    "scrolled": true
   },
   "outputs": [
    {
     "data": {
      "text/plain": [
       "0.1438326929353057"
      ]
     },
     "execution_count": 79,
     "metadata": {},
     "output_type": "execute_result"
    }
   ],
   "source": [
    "from sklearn.metrics import log_loss\n",
    "log_loss(y_test, a)"
   ]
  },
  {
   "cell_type": "code",
   "execution_count": null,
   "metadata": {},
   "outputs": [],
   "source": []
  },
  {
   "cell_type": "code",
   "execution_count": 36,
   "metadata": {},
   "outputs": [
    {
     "data": {
      "text/plain": [
       "0.13857746627823353"
      ]
     },
     "execution_count": 36,
     "metadata": {},
     "output_type": "execute_result"
    }
   ],
   "source": [
    "from sklearn.metrics import log_loss\n",
    "log_loss(y_train, res_prob)"
   ]
  },
  {
   "cell_type": "code",
   "execution_count": 47,
   "metadata": {},
   "outputs": [],
   "source": [
    "predicts = clf.predict(X_test)"
   ]
  },
  {
   "cell_type": "code",
   "execution_count": 57,
   "metadata": {},
   "outputs": [],
   "source": [
    "df1 = pd.DataFrame(predicts)"
   ]
  },
  {
   "cell_type": "code",
   "execution_count": 58,
   "metadata": {},
   "outputs": [
    {
     "data": {
      "text/plain": [
       "array([0])"
      ]
     },
     "execution_count": 58,
     "metadata": {},
     "output_type": "execute_result"
    }
   ],
   "source": [
    "df1.loc[:, 0].unique()"
   ]
  },
  {
   "cell_type": "code",
   "execution_count": 46,
   "metadata": {},
   "outputs": [],
   "source": [
    "from sklearn.metrics import classification_report"
   ]
  },
  {
   "cell_type": "code",
   "execution_count": 51,
   "metadata": {},
   "outputs": [
    {
     "name": "stderr",
     "output_type": "stream",
     "text": [
      "/usr/local/lib/python3.6/dist-packages/sklearn/metrics/classification.py:1437: UndefinedMetricWarning: Precision and F-score are ill-defined and being set to 0.0 in labels with no predicted samples.\n",
      "  'precision', 'predicted', average, warn_for)\n"
     ]
    },
    {
     "name": "stdout",
     "output_type": "stream",
     "text": [
      "              precision    recall  f1-score   support\n",
      "\n",
      "           0       0.97      1.00      0.98    319237\n",
      "           1       0.00      0.00      0.00     10763\n",
      "\n",
      "    accuracy                           0.97    330000\n",
      "   macro avg       0.48      0.50      0.49    330000\n",
      "weighted avg       0.94      0.97      0.95    330000\n",
      "\n"
     ]
    }
   ],
   "source": [
    "print(classification_report(y_test, predicts))"
   ]
  },
  {
   "cell_type": "code",
   "execution_count": 161,
   "metadata": {},
   "outputs": [],
   "source": [
    "df = df.loc[:, ['label'] + [\"if\"+str(i) for i in range(1,14)]]"
   ]
  },
  {
   "cell_type": "code",
   "execution_count": 155,
   "metadata": {},
   "outputs": [],
   "source": []
  },
  {
   "cell_type": "code",
   "execution_count": 156,
   "metadata": {
    "scrolled": true
   },
   "outputs": [
    {
     "data": {
      "text/html": [
       "<div>\n",
       "<style scoped>\n",
       "    .dataframe tbody tr th:only-of-type {\n",
       "        vertical-align: middle;\n",
       "    }\n",
       "\n",
       "    .dataframe tbody tr th {\n",
       "        vertical-align: top;\n",
       "    }\n",
       "\n",
       "    .dataframe thead th {\n",
       "        text-align: right;\n",
       "    }\n",
       "</style>\n",
       "<table border=\"1\" class=\"dataframe\">\n",
       "  <thead>\n",
       "    <tr style=\"text-align: right;\">\n",
       "      <th></th>\n",
       "      <th>id</th>\n",
       "      <th>label</th>\n",
       "      <th>if1</th>\n",
       "      <th>if2</th>\n",
       "      <th>if3</th>\n",
       "      <th>if4</th>\n",
       "      <th>if5</th>\n",
       "      <th>if6</th>\n",
       "      <th>if7</th>\n",
       "      <th>if8</th>\n",
       "      <th>if9</th>\n",
       "      <th>if10</th>\n",
       "      <th>if11</th>\n",
       "      <th>if12</th>\n",
       "      <th>if13</th>\n",
       "    </tr>\n",
       "  </thead>\n",
       "  <tbody>\n",
       "    <tr>\n",
       "      <th>count</th>\n",
       "      <td>1000000.000000</td>\n",
       "      <td>1000000.000000</td>\n",
       "      <td>1.000000e+06</td>\n",
       "      <td>1.000000e+06</td>\n",
       "      <td>1.000000e+06</td>\n",
       "      <td>1.000000e+06</td>\n",
       "      <td>1.000000e+06</td>\n",
       "      <td>1.000000e+06</td>\n",
       "      <td>1.000000e+06</td>\n",
       "      <td>1.000000e+06</td>\n",
       "      <td>1.000000e+06</td>\n",
       "      <td>1.000000e+06</td>\n",
       "      <td>1.000000e+06</td>\n",
       "      <td>1.000000e+06</td>\n",
       "      <td>1.000000e+06</td>\n",
       "    </tr>\n",
       "    <tr>\n",
       "      <th>mean</th>\n",
       "      <td>499999.500000</td>\n",
       "      <td>0.032494</td>\n",
       "      <td>1.372769e-17</td>\n",
       "      <td>3.046594e-16</td>\n",
       "      <td>1.838725e-16</td>\n",
       "      <td>-5.102230e-17</td>\n",
       "      <td>-5.590728e-17</td>\n",
       "      <td>9.791634e-17</td>\n",
       "      <td>3.082334e-17</td>\n",
       "      <td>-1.200817e-18</td>\n",
       "      <td>3.157830e-17</td>\n",
       "      <td>4.599876e-17</td>\n",
       "      <td>3.065139e-16</td>\n",
       "      <td>-5.643841e-17</td>\n",
       "      <td>-6.527312e-17</td>\n",
       "    </tr>\n",
       "    <tr>\n",
       "      <th>std</th>\n",
       "      <td>288675.278932</td>\n",
       "      <td>0.177308</td>\n",
       "      <td>1.000001e+00</td>\n",
       "      <td>1.000001e+00</td>\n",
       "      <td>1.000001e+00</td>\n",
       "      <td>1.000001e+00</td>\n",
       "      <td>1.000001e+00</td>\n",
       "      <td>1.000001e+00</td>\n",
       "      <td>1.000001e+00</td>\n",
       "      <td>1.000001e+00</td>\n",
       "      <td>1.000001e+00</td>\n",
       "      <td>1.000001e+00</td>\n",
       "      <td>1.000001e+00</td>\n",
       "      <td>1.000001e+00</td>\n",
       "      <td>1.000001e+00</td>\n",
       "    </tr>\n",
       "    <tr>\n",
       "      <th>min</th>\n",
       "      <td>0.000000</td>\n",
       "      <td>0.000000</td>\n",
       "      <td>-7.332280e-02</td>\n",
       "      <td>-6.428741e-01</td>\n",
       "      <td>-8.329531e-01</td>\n",
       "      <td>-2.753154e-01</td>\n",
       "      <td>-3.675751e-01</td>\n",
       "      <td>-2.433298e-01</td>\n",
       "      <td>-6.346365e-02</td>\n",
       "      <td>-2.885205e-01</td>\n",
       "      <td>-7.347273e-01</td>\n",
       "      <td>-5.433578e-01</td>\n",
       "      <td>-5.913134e-01</td>\n",
       "      <td>-2.886659e-01</td>\n",
       "      <td>-4.079328e-01</td>\n",
       "    </tr>\n",
       "    <tr>\n",
       "      <th>25%</th>\n",
       "      <td>249999.750000</td>\n",
       "      <td>0.000000</td>\n",
       "      <td>-6.706879e-02</td>\n",
       "      <td>-5.365880e-01</td>\n",
       "      <td>-6.021664e-01</td>\n",
       "      <td>-2.368915e-01</td>\n",
       "      <td>-3.177138e-01</td>\n",
       "      <td>-2.433298e-01</td>\n",
       "      <td>-6.346365e-02</td>\n",
       "      <td>-2.833712e-01</td>\n",
       "      <td>-6.629131e-01</td>\n",
       "      <td>-5.433578e-01</td>\n",
       "      <td>-4.105982e-01</td>\n",
       "      <td>-2.791622e-01</td>\n",
       "      <td>-3.168002e-01</td>\n",
       "    </tr>\n",
       "    <tr>\n",
       "      <th>50%</th>\n",
       "      <td>499999.500000</td>\n",
       "      <td>0.000000</td>\n",
       "      <td>-5.039141e-02</td>\n",
       "      <td>-2.794907e-01</td>\n",
       "      <td>-2.519983e-02</td>\n",
       "      <td>-6.590536e-02</td>\n",
       "      <td>-5.904761e-17</td>\n",
       "      <td>-2.433298e-01</td>\n",
       "      <td>-6.346365e-02</td>\n",
       "      <td>-2.730726e-01</td>\n",
       "      <td>-3.756561e-01</td>\n",
       "      <td>-5.433578e-01</td>\n",
       "      <td>3.210147e-16</td>\n",
       "      <td>-2.449515e-01</td>\n",
       "      <td>-4.340227e-02</td>\n",
       "    </tr>\n",
       "    <tr>\n",
       "      <th>75%</th>\n",
       "      <td>749999.250000</td>\n",
       "      <td>0.000000</td>\n",
       "      <td>1.481249e-17</td>\n",
       "      <td>3.936747e-02</td>\n",
       "      <td>2.049797e-16</td>\n",
       "      <td>-5.460359e-17</td>\n",
       "      <td>-5.904761e-17</td>\n",
       "      <td>9.701089e-17</td>\n",
       "      <td>-6.346365e-02</td>\n",
       "      <td>-1.649372e-01</td>\n",
       "      <td>3.424864e-01</td>\n",
       "      <td>0.000000e+00</td>\n",
       "      <td>3.210147e-16</td>\n",
       "      <td>-1.079167e-01</td>\n",
       "      <td>-8.094203e-17</td>\n",
       "    </tr>\n",
       "    <tr>\n",
       "      <th>max</th>\n",
       "      <td>999999.000000</td>\n",
       "      <td>1.000000</td>\n",
       "      <td>1.365436e+02</td>\n",
       "      <td>1.084607e+01</td>\n",
       "      <td>1.183684e+02</td>\n",
       "      <td>2.137206e+02</td>\n",
       "      <td>1.299033e+02</td>\n",
       "      <td>1.803413e+02</td>\n",
       "      <td>5.039339e+02</td>\n",
       "      <td>5.786259e+01</td>\n",
       "      <td>2.509742e+02</td>\n",
       "      <td>1.609576e+01</td>\n",
       "      <td>3.898531e+01</td>\n",
       "      <td>3.587692e+01</td>\n",
       "      <td>2.338940e+02</td>\n",
       "    </tr>\n",
       "  </tbody>\n",
       "</table>\n",
       "</div>"
      ],
      "text/plain": [
       "                   id           label           if1           if2  \\\n",
       "count  1000000.000000  1000000.000000  1.000000e+06  1.000000e+06   \n",
       "mean    499999.500000        0.032494  1.372769e-17  3.046594e-16   \n",
       "std     288675.278932        0.177308  1.000001e+00  1.000001e+00   \n",
       "min          0.000000        0.000000 -7.332280e-02 -6.428741e-01   \n",
       "25%     249999.750000        0.000000 -6.706879e-02 -5.365880e-01   \n",
       "50%     499999.500000        0.000000 -5.039141e-02 -2.794907e-01   \n",
       "75%     749999.250000        0.000000  1.481249e-17  3.936747e-02   \n",
       "max     999999.000000        1.000000  1.365436e+02  1.084607e+01   \n",
       "\n",
       "                if3           if4           if5           if6           if7  \\\n",
       "count  1.000000e+06  1.000000e+06  1.000000e+06  1.000000e+06  1.000000e+06   \n",
       "mean   1.838725e-16 -5.102230e-17 -5.590728e-17  9.791634e-17  3.082334e-17   \n",
       "std    1.000001e+00  1.000001e+00  1.000001e+00  1.000001e+00  1.000001e+00   \n",
       "min   -8.329531e-01 -2.753154e-01 -3.675751e-01 -2.433298e-01 -6.346365e-02   \n",
       "25%   -6.021664e-01 -2.368915e-01 -3.177138e-01 -2.433298e-01 -6.346365e-02   \n",
       "50%   -2.519983e-02 -6.590536e-02 -5.904761e-17 -2.433298e-01 -6.346365e-02   \n",
       "75%    2.049797e-16 -5.460359e-17 -5.904761e-17  9.701089e-17 -6.346365e-02   \n",
       "max    1.183684e+02  2.137206e+02  1.299033e+02  1.803413e+02  5.039339e+02   \n",
       "\n",
       "                if8           if9          if10          if11          if12  \\\n",
       "count  1.000000e+06  1.000000e+06  1.000000e+06  1.000000e+06  1.000000e+06   \n",
       "mean  -1.200817e-18  3.157830e-17  4.599876e-17  3.065139e-16 -5.643841e-17   \n",
       "std    1.000001e+00  1.000001e+00  1.000001e+00  1.000001e+00  1.000001e+00   \n",
       "min   -2.885205e-01 -7.347273e-01 -5.433578e-01 -5.913134e-01 -2.886659e-01   \n",
       "25%   -2.833712e-01 -6.629131e-01 -5.433578e-01 -4.105982e-01 -2.791622e-01   \n",
       "50%   -2.730726e-01 -3.756561e-01 -5.433578e-01  3.210147e-16 -2.449515e-01   \n",
       "75%   -1.649372e-01  3.424864e-01  0.000000e+00  3.210147e-16 -1.079167e-01   \n",
       "max    5.786259e+01  2.509742e+02  1.609576e+01  3.898531e+01  3.587692e+01   \n",
       "\n",
       "               if13  \n",
       "count  1.000000e+06  \n",
       "mean  -6.527312e-17  \n",
       "std    1.000001e+00  \n",
       "min   -4.079328e-01  \n",
       "25%   -3.168002e-01  \n",
       "50%   -4.340227e-02  \n",
       "75%   -8.094203e-17  \n",
       "max    2.338940e+02  "
      ]
     },
     "execution_count": 156,
     "metadata": {},
     "output_type": "execute_result"
    }
   ],
   "source": [
    "df.describe()"
   ]
  },
  {
   "cell_type": "code",
   "execution_count": 136,
   "metadata": {},
   "outputs": [
    {
     "data": {
      "text/plain": [
       "2"
      ]
     },
     "execution_count": 136,
     "metadata": {},
     "output_type": "execute_result"
    }
   ],
   "source": [
    "df.iloc[:, 0].nunique()"
   ]
  },
  {
   "cell_type": "code",
   "execution_count": 162,
   "metadata": {},
   "outputs": [],
   "source": []
  },
  {
   "cell_type": "code",
   "execution_count": 164,
   "metadata": {},
   "outputs": [],
   "source": [
    "from sklearn.linear_model import LogisticRegression"
   ]
  },
  {
   "cell_type": "code",
   "execution_count": 165,
   "metadata": {},
   "outputs": [],
   "source": [
    "model = LogisticRegression(solver='lbfgs')"
   ]
  },
  {
   "cell_type": "code",
   "execution_count": 163,
   "metadata": {},
   "outputs": [
    {
     "data": {
      "text/plain": [
       "(670000, 13)"
      ]
     },
     "execution_count": 163,
     "metadata": {},
     "output_type": "execute_result"
    }
   ],
   "source": [
    "X_train.shape"
   ]
  },
  {
   "cell_type": "code",
   "execution_count": 170,
   "metadata": {},
   "outputs": [
    {
     "data": {
      "text/plain": [
       "21731"
      ]
     },
     "execution_count": 170,
     "metadata": {},
     "output_type": "execute_result"
    }
   ],
   "source": [
    "y_train.sum()"
   ]
  },
  {
   "cell_type": "code",
   "execution_count": 38,
   "metadata": {},
   "outputs": [
    {
     "ename": "NameError",
     "evalue": "name 'model' is not defined",
     "output_type": "error",
     "traceback": [
      "\u001b[0;31m---------------------------------------------------------------------------\u001b[0m",
      "\u001b[0;31mNameError\u001b[0m                                 Traceback (most recent call last)",
      "\u001b[0;32m<ipython-input-38-d768f88d541e>\u001b[0m in \u001b[0;36m<module>\u001b[0;34m()\u001b[0m\n\u001b[0;32m----> 1\u001b[0;31m \u001b[0mmodel\u001b[0m\u001b[0;34m.\u001b[0m\u001b[0mfit\u001b[0m\u001b[0;34m(\u001b[0m\u001b[0mX_train\u001b[0m\u001b[0;34m,\u001b[0m \u001b[0my_train\u001b[0m\u001b[0;34m)\u001b[0m\u001b[0;34m\u001b[0m\u001b[0;34m\u001b[0m\u001b[0m\n\u001b[0m",
      "\u001b[0;31mNameError\u001b[0m: name 'model' is not defined"
     ]
    }
   ],
   "source": [
    "model.fit(X_train, y_train)"
   ]
  },
  {
   "cell_type": "code",
   "execution_count": 176,
   "metadata": {
    "scrolled": true
   },
   "outputs": [],
   "source": [
    "res_proba = model.predict_proba(X_train)[:, 0]"
   ]
  },
  {
   "cell_type": "code",
   "execution_count": 179,
   "metadata": {},
   "outputs": [
    {
     "data": {
      "text/plain": [
       "(670000,)"
      ]
     },
     "execution_count": 179,
     "metadata": {},
     "output_type": "execute_result"
    }
   ],
   "source": [
    "res_proba.shape"
   ]
  },
  {
   "cell_type": "code",
   "execution_count": 181,
   "metadata": {},
   "outputs": [
    {
     "data": {
      "text/plain": [
       "(670000,)"
      ]
     },
     "execution_count": 181,
     "metadata": {},
     "output_type": "execute_result"
    }
   ],
   "source": [
    "y_train.shape"
   ]
  },
  {
   "cell_type": "code",
   "execution_count": 172,
   "metadata": {},
   "outputs": [],
   "source": [
    "from sklearn.metrics import log_loss"
   ]
  },
  {
   "cell_type": "code",
   "execution_count": 180,
   "metadata": {},
   "outputs": [
    {
     "data": {
      "text/plain": [
       "3.462091838636979"
      ]
     },
     "execution_count": 180,
     "metadata": {},
     "output_type": "execute_result"
    }
   ],
   "source": [
    "log_loss(y_train, res_proba)"
   ]
  },
  {
   "cell_type": "code",
   "execution_count": 168,
   "metadata": {},
   "outputs": [],
   "source": [
    "res = pd.DataFrame(model.predict(X_train))"
   ]
  },
  {
   "cell_type": "code",
   "execution_count": 146,
   "metadata": {},
   "outputs": [
    {
     "data": {
      "text/html": [
       "<div>\n",
       "<style scoped>\n",
       "    .dataframe tbody tr th:only-of-type {\n",
       "        vertical-align: middle;\n",
       "    }\n",
       "\n",
       "    .dataframe tbody tr th {\n",
       "        vertical-align: top;\n",
       "    }\n",
       "\n",
       "    .dataframe thead th {\n",
       "        text-align: right;\n",
       "    }\n",
       "</style>\n",
       "<table border=\"1\" class=\"dataframe\">\n",
       "  <thead>\n",
       "    <tr style=\"text-align: right;\">\n",
       "      <th></th>\n",
       "      <th>0</th>\n",
       "    </tr>\n",
       "  </thead>\n",
       "  <tbody>\n",
       "    <tr>\n",
       "      <th>0</th>\n",
       "      <td>0</td>\n",
       "    </tr>\n",
       "    <tr>\n",
       "      <th>1</th>\n",
       "      <td>0</td>\n",
       "    </tr>\n",
       "    <tr>\n",
       "      <th>2</th>\n",
       "      <td>0</td>\n",
       "    </tr>\n",
       "    <tr>\n",
       "      <th>3</th>\n",
       "      <td>0</td>\n",
       "    </tr>\n",
       "    <tr>\n",
       "      <th>4</th>\n",
       "      <td>0</td>\n",
       "    </tr>\n",
       "    <tr>\n",
       "      <th>5</th>\n",
       "      <td>0</td>\n",
       "    </tr>\n",
       "    <tr>\n",
       "      <th>6</th>\n",
       "      <td>0</td>\n",
       "    </tr>\n",
       "    <tr>\n",
       "      <th>7</th>\n",
       "      <td>0</td>\n",
       "    </tr>\n",
       "    <tr>\n",
       "      <th>8</th>\n",
       "      <td>0</td>\n",
       "    </tr>\n",
       "    <tr>\n",
       "      <th>9</th>\n",
       "      <td>0</td>\n",
       "    </tr>\n",
       "    <tr>\n",
       "      <th>10</th>\n",
       "      <td>0</td>\n",
       "    </tr>\n",
       "    <tr>\n",
       "      <th>11</th>\n",
       "      <td>0</td>\n",
       "    </tr>\n",
       "    <tr>\n",
       "      <th>12</th>\n",
       "      <td>0</td>\n",
       "    </tr>\n",
       "    <tr>\n",
       "      <th>13</th>\n",
       "      <td>0</td>\n",
       "    </tr>\n",
       "    <tr>\n",
       "      <th>14</th>\n",
       "      <td>0</td>\n",
       "    </tr>\n",
       "    <tr>\n",
       "      <th>15</th>\n",
       "      <td>0</td>\n",
       "    </tr>\n",
       "    <tr>\n",
       "      <th>16</th>\n",
       "      <td>0</td>\n",
       "    </tr>\n",
       "    <tr>\n",
       "      <th>17</th>\n",
       "      <td>0</td>\n",
       "    </tr>\n",
       "    <tr>\n",
       "      <th>18</th>\n",
       "      <td>0</td>\n",
       "    </tr>\n",
       "    <tr>\n",
       "      <th>19</th>\n",
       "      <td>0</td>\n",
       "    </tr>\n",
       "    <tr>\n",
       "      <th>20</th>\n",
       "      <td>0</td>\n",
       "    </tr>\n",
       "    <tr>\n",
       "      <th>21</th>\n",
       "      <td>0</td>\n",
       "    </tr>\n",
       "    <tr>\n",
       "      <th>22</th>\n",
       "      <td>0</td>\n",
       "    </tr>\n",
       "    <tr>\n",
       "      <th>23</th>\n",
       "      <td>0</td>\n",
       "    </tr>\n",
       "    <tr>\n",
       "      <th>24</th>\n",
       "      <td>0</td>\n",
       "    </tr>\n",
       "    <tr>\n",
       "      <th>25</th>\n",
       "      <td>0</td>\n",
       "    </tr>\n",
       "    <tr>\n",
       "      <th>26</th>\n",
       "      <td>0</td>\n",
       "    </tr>\n",
       "    <tr>\n",
       "      <th>27</th>\n",
       "      <td>0</td>\n",
       "    </tr>\n",
       "    <tr>\n",
       "      <th>28</th>\n",
       "      <td>0</td>\n",
       "    </tr>\n",
       "    <tr>\n",
       "      <th>29</th>\n",
       "      <td>0</td>\n",
       "    </tr>\n",
       "    <tr>\n",
       "      <th>...</th>\n",
       "      <td>...</td>\n",
       "    </tr>\n",
       "    <tr>\n",
       "      <th>66970</th>\n",
       "      <td>0</td>\n",
       "    </tr>\n",
       "    <tr>\n",
       "      <th>66971</th>\n",
       "      <td>0</td>\n",
       "    </tr>\n",
       "    <tr>\n",
       "      <th>66972</th>\n",
       "      <td>0</td>\n",
       "    </tr>\n",
       "    <tr>\n",
       "      <th>66973</th>\n",
       "      <td>0</td>\n",
       "    </tr>\n",
       "    <tr>\n",
       "      <th>66974</th>\n",
       "      <td>0</td>\n",
       "    </tr>\n",
       "    <tr>\n",
       "      <th>66975</th>\n",
       "      <td>0</td>\n",
       "    </tr>\n",
       "    <tr>\n",
       "      <th>66976</th>\n",
       "      <td>0</td>\n",
       "    </tr>\n",
       "    <tr>\n",
       "      <th>66977</th>\n",
       "      <td>0</td>\n",
       "    </tr>\n",
       "    <tr>\n",
       "      <th>66978</th>\n",
       "      <td>0</td>\n",
       "    </tr>\n",
       "    <tr>\n",
       "      <th>66979</th>\n",
       "      <td>0</td>\n",
       "    </tr>\n",
       "    <tr>\n",
       "      <th>66980</th>\n",
       "      <td>0</td>\n",
       "    </tr>\n",
       "    <tr>\n",
       "      <th>66981</th>\n",
       "      <td>0</td>\n",
       "    </tr>\n",
       "    <tr>\n",
       "      <th>66982</th>\n",
       "      <td>0</td>\n",
       "    </tr>\n",
       "    <tr>\n",
       "      <th>66983</th>\n",
       "      <td>0</td>\n",
       "    </tr>\n",
       "    <tr>\n",
       "      <th>66984</th>\n",
       "      <td>0</td>\n",
       "    </tr>\n",
       "    <tr>\n",
       "      <th>66985</th>\n",
       "      <td>0</td>\n",
       "    </tr>\n",
       "    <tr>\n",
       "      <th>66986</th>\n",
       "      <td>0</td>\n",
       "    </tr>\n",
       "    <tr>\n",
       "      <th>66987</th>\n",
       "      <td>0</td>\n",
       "    </tr>\n",
       "    <tr>\n",
       "      <th>66988</th>\n",
       "      <td>0</td>\n",
       "    </tr>\n",
       "    <tr>\n",
       "      <th>66989</th>\n",
       "      <td>0</td>\n",
       "    </tr>\n",
       "    <tr>\n",
       "      <th>66990</th>\n",
       "      <td>0</td>\n",
       "    </tr>\n",
       "    <tr>\n",
       "      <th>66991</th>\n",
       "      <td>0</td>\n",
       "    </tr>\n",
       "    <tr>\n",
       "      <th>66992</th>\n",
       "      <td>0</td>\n",
       "    </tr>\n",
       "    <tr>\n",
       "      <th>66993</th>\n",
       "      <td>0</td>\n",
       "    </tr>\n",
       "    <tr>\n",
       "      <th>66994</th>\n",
       "      <td>0</td>\n",
       "    </tr>\n",
       "    <tr>\n",
       "      <th>66995</th>\n",
       "      <td>0</td>\n",
       "    </tr>\n",
       "    <tr>\n",
       "      <th>66996</th>\n",
       "      <td>0</td>\n",
       "    </tr>\n",
       "    <tr>\n",
       "      <th>66997</th>\n",
       "      <td>0</td>\n",
       "    </tr>\n",
       "    <tr>\n",
       "      <th>66998</th>\n",
       "      <td>0</td>\n",
       "    </tr>\n",
       "    <tr>\n",
       "      <th>66999</th>\n",
       "      <td>0</td>\n",
       "    </tr>\n",
       "  </tbody>\n",
       "</table>\n",
       "<p>67000 rows × 1 columns</p>\n",
       "</div>"
      ],
      "text/plain": [
       "       0\n",
       "0      0\n",
       "1      0\n",
       "2      0\n",
       "3      0\n",
       "4      0\n",
       "5      0\n",
       "6      0\n",
       "7      0\n",
       "8      0\n",
       "9      0\n",
       "10     0\n",
       "11     0\n",
       "12     0\n",
       "13     0\n",
       "14     0\n",
       "15     0\n",
       "16     0\n",
       "17     0\n",
       "18     0\n",
       "19     0\n",
       "20     0\n",
       "21     0\n",
       "22     0\n",
       "23     0\n",
       "24     0\n",
       "25     0\n",
       "26     0\n",
       "27     0\n",
       "28     0\n",
       "29     0\n",
       "...   ..\n",
       "66970  0\n",
       "66971  0\n",
       "66972  0\n",
       "66973  0\n",
       "66974  0\n",
       "66975  0\n",
       "66976  0\n",
       "66977  0\n",
       "66978  0\n",
       "66979  0\n",
       "66980  0\n",
       "66981  0\n",
       "66982  0\n",
       "66983  0\n",
       "66984  0\n",
       "66985  0\n",
       "66986  0\n",
       "66987  0\n",
       "66988  0\n",
       "66989  0\n",
       "66990  0\n",
       "66991  0\n",
       "66992  0\n",
       "66993  0\n",
       "66994  0\n",
       "66995  0\n",
       "66996  0\n",
       "66997  0\n",
       "66998  0\n",
       "66999  0\n",
       "\n",
       "[67000 rows x 1 columns]"
      ]
     },
     "execution_count": 146,
     "metadata": {},
     "output_type": "execute_result"
    }
   ],
   "source": [
    "res"
   ]
  },
  {
   "cell_type": "code",
   "execution_count": 169,
   "metadata": {},
   "outputs": [
    {
     "data": {
      "text/plain": [
       "0\n",
       "0    669949\n",
       "1        51\n",
       "Name: 0, dtype: int64"
      ]
     },
     "execution_count": 169,
     "metadata": {},
     "output_type": "execute_result"
    }
   ],
   "source": [
    "res.groupby(0)[0].count()"
   ]
  },
  {
   "cell_type": "code",
   "execution_count": null,
   "metadata": {},
   "outputs": [],
   "source": []
  },
  {
   "cell_type": "code",
   "execution_count": null,
   "metadata": {},
   "outputs": [],
   "source": []
  },
  {
   "cell_type": "code",
   "execution_count": null,
   "metadata": {},
   "outputs": [],
   "source": []
  },
  {
   "cell_type": "code",
   "execution_count": null,
   "metadata": {},
   "outputs": [],
   "source": []
  },
  {
   "cell_type": "code",
   "execution_count": 79,
   "metadata": {},
   "outputs": [],
   "source": [
    "y = onehotencoder.fit_transform(df.loc[:, [\"cf\"+str(i) for i in range(1,27)]])"
   ]
  },
  {
   "cell_type": "code",
   "execution_count": 87,
   "metadata": {},
   "outputs": [],
   "source": [
    "y_transformed = pca.fit_transform(y)"
   ]
  },
  {
   "cell_type": "code",
   "execution_count": 88,
   "metadata": {},
   "outputs": [
    {
     "data": {
      "text/plain": [
       "0.6446208596055804"
      ]
     },
     "execution_count": 88,
     "metadata": {},
     "output_type": "execute_result"
    }
   ],
   "source": [
    "pca.explained_variance_ratio_.sum()"
   ]
  },
  {
   "cell_type": "code",
   "execution_count": 85,
   "metadata": {},
   "outputs": [
    {
     "data": {
      "text/plain": [
       "numpy.ndarray"
      ]
     },
     "execution_count": 85,
     "metadata": {},
     "output_type": "execute_result"
    }
   ],
   "source": [
    "type(y)"
   ]
  },
  {
   "cell_type": "code",
   "execution_count": 81,
   "metadata": {},
   "outputs": [
    {
     "data": {
      "text/plain": [
       "(1000, 6253)"
      ]
     },
     "execution_count": 81,
     "metadata": {},
     "output_type": "execute_result"
    }
   ],
   "source": [
    "y.shape"
   ]
  },
  {
   "cell_type": "code",
   "execution_count": 39,
   "metadata": {},
   "outputs": [
    {
     "data": {
      "text/html": [
       "<div>\n",
       "<style scoped>\n",
       "    .dataframe tbody tr th:only-of-type {\n",
       "        vertical-align: middle;\n",
       "    }\n",
       "\n",
       "    .dataframe tbody tr th {\n",
       "        vertical-align: top;\n",
       "    }\n",
       "\n",
       "    .dataframe thead th {\n",
       "        text-align: right;\n",
       "    }\n",
       "</style>\n",
       "<table border=\"1\" class=\"dataframe\">\n",
       "  <thead>\n",
       "    <tr style=\"text-align: right;\">\n",
       "      <th></th>\n",
       "      <th>id</th>\n",
       "      <th>label</th>\n",
       "      <th>if1</th>\n",
       "      <th>if2</th>\n",
       "      <th>if3</th>\n",
       "      <th>if4</th>\n",
       "      <th>if5</th>\n",
       "      <th>if6</th>\n",
       "      <th>if7</th>\n",
       "      <th>if8</th>\n",
       "      <th>if9</th>\n",
       "      <th>if10</th>\n",
       "      <th>if11</th>\n",
       "      <th>if12</th>\n",
       "      <th>if13</th>\n",
       "    </tr>\n",
       "  </thead>\n",
       "  <tbody>\n",
       "    <tr>\n",
       "      <th>count</th>\n",
       "      <td>100000.000000</td>\n",
       "      <td>100000.000000</td>\n",
       "      <td>81739.000000</td>\n",
       "      <td>90258.000000</td>\n",
       "      <td>75399.000000</td>\n",
       "      <td>55327.000000</td>\n",
       "      <td>58530.000000</td>\n",
       "      <td>89676.000000</td>\n",
       "      <td>96725.000000</td>\n",
       "      <td>100000.00000</td>\n",
       "      <td>100000.000000</td>\n",
       "      <td>89676.000000</td>\n",
       "      <td>58530.000000</td>\n",
       "      <td>9.871700e+04</td>\n",
       "      <td>75399.000000</td>\n",
       "    </tr>\n",
       "    <tr>\n",
       "      <th>mean</th>\n",
       "      <td>49999.500000</td>\n",
       "      <td>0.030930</td>\n",
       "      <td>43.258126</td>\n",
       "      <td>447.569645</td>\n",
       "      <td>7.355296</td>\n",
       "      <td>166.143149</td>\n",
       "      <td>22.775807</td>\n",
       "      <td>1.285060</td>\n",
       "      <td>0.139292</td>\n",
       "      <td>116.09759</td>\n",
       "      <td>9.382160</td>\n",
       "      <td>0.220215</td>\n",
       "      <td>4.257526</td>\n",
       "      <td>2.234827e+04</td>\n",
       "      <td>9.640499</td>\n",
       "    </tr>\n",
       "    <tr>\n",
       "      <th>std</th>\n",
       "      <td>28867.657797</td>\n",
       "      <td>0.173129</td>\n",
       "      <td>575.436704</td>\n",
       "      <td>776.686202</td>\n",
       "      <td>9.275920</td>\n",
       "      <td>784.859887</td>\n",
       "      <td>74.314865</td>\n",
       "      <td>6.344923</td>\n",
       "      <td>1.707149</td>\n",
       "      <td>386.75562</td>\n",
       "      <td>11.942831</td>\n",
       "      <td>0.498195</td>\n",
       "      <td>7.232921</td>\n",
       "      <td>7.564300e+04</td>\n",
       "      <td>28.046654</td>\n",
       "    </tr>\n",
       "    <tr>\n",
       "      <th>min</th>\n",
       "      <td>0.000000</td>\n",
       "      <td>0.000000</td>\n",
       "      <td>1.000000</td>\n",
       "      <td>1.000000</td>\n",
       "      <td>0.000000</td>\n",
       "      <td>0.000000</td>\n",
       "      <td>1.000000</td>\n",
       "      <td>0.000000</td>\n",
       "      <td>0.000000</td>\n",
       "      <td>-1.00000</td>\n",
       "      <td>0.000000</td>\n",
       "      <td>0.000000</td>\n",
       "      <td>1.000000</td>\n",
       "      <td>0.000000e+00</td>\n",
       "      <td>0.000000</td>\n",
       "    </tr>\n",
       "    <tr>\n",
       "      <th>25%</th>\n",
       "      <td>24999.750000</td>\n",
       "      <td>0.000000</td>\n",
       "      <td>3.000000</td>\n",
       "      <td>59.000000</td>\n",
       "      <td>2.000000</td>\n",
       "      <td>10.000000</td>\n",
       "      <td>2.000000</td>\n",
       "      <td>0.000000</td>\n",
       "      <td>0.000000</td>\n",
       "      <td>1.00000</td>\n",
       "      <td>1.000000</td>\n",
       "      <td>0.000000</td>\n",
       "      <td>1.000000</td>\n",
       "      <td>6.390000e+02</td>\n",
       "      <td>2.000000</td>\n",
       "    </tr>\n",
       "    <tr>\n",
       "      <th>50%</th>\n",
       "      <td>49999.500000</td>\n",
       "      <td>0.000000</td>\n",
       "      <td>8.000000</td>\n",
       "      <td>194.000000</td>\n",
       "      <td>4.000000</td>\n",
       "      <td>34.000000</td>\n",
       "      <td>6.000000</td>\n",
       "      <td>0.000000</td>\n",
       "      <td>0.000000</td>\n",
       "      <td>6.00000</td>\n",
       "      <td>4.000000</td>\n",
       "      <td>0.000000</td>\n",
       "      <td>2.000000</td>\n",
       "      <td>3.533000e+03</td>\n",
       "      <td>5.000000</td>\n",
       "    </tr>\n",
       "    <tr>\n",
       "      <th>75%</th>\n",
       "      <td>74999.250000</td>\n",
       "      <td>0.000000</td>\n",
       "      <td>24.000000</td>\n",
       "      <td>516.000000</td>\n",
       "      <td>9.000000</td>\n",
       "      <td>106.000000</td>\n",
       "      <td>17.000000</td>\n",
       "      <td>0.000000</td>\n",
       "      <td>0.000000</td>\n",
       "      <td>54.25000</td>\n",
       "      <td>13.000000</td>\n",
       "      <td>0.000000</td>\n",
       "      <td>4.000000</td>\n",
       "      <td>1.303300e+04</td>\n",
       "      <td>11.000000</td>\n",
       "    </tr>\n",
       "    <tr>\n",
       "      <th>max</th>\n",
       "      <td>99999.000000</td>\n",
       "      <td>1.000000</td>\n",
       "      <td>65535.000000</td>\n",
       "      <td>7998.000000</td>\n",
       "      <td>307.000000</td>\n",
       "      <td>80349.000000</td>\n",
       "      <td>5617.000000</td>\n",
       "      <td>632.000000</td>\n",
       "      <td>170.000000</td>\n",
       "      <td>8136.00000</td>\n",
       "      <td>266.000000</td>\n",
       "      <td>7.000000</td>\n",
       "      <td>126.000000</td>\n",
       "      <td>2.333380e+06</td>\n",
       "      <td>3639.000000</td>\n",
       "    </tr>\n",
       "  </tbody>\n",
       "</table>\n",
       "</div>"
      ],
      "text/plain": [
       "                  id          label           if1           if2           if3  \\\n",
       "count  100000.000000  100000.000000  81739.000000  90258.000000  75399.000000   \n",
       "mean    49999.500000       0.030930     43.258126    447.569645      7.355296   \n",
       "std     28867.657797       0.173129    575.436704    776.686202      9.275920   \n",
       "min         0.000000       0.000000      1.000000      1.000000      0.000000   \n",
       "25%     24999.750000       0.000000      3.000000     59.000000      2.000000   \n",
       "50%     49999.500000       0.000000      8.000000    194.000000      4.000000   \n",
       "75%     74999.250000       0.000000     24.000000    516.000000      9.000000   \n",
       "max     99999.000000       1.000000  65535.000000   7998.000000    307.000000   \n",
       "\n",
       "                if4           if5           if6           if7           if8  \\\n",
       "count  55327.000000  58530.000000  89676.000000  96725.000000  100000.00000   \n",
       "mean     166.143149     22.775807      1.285060      0.139292     116.09759   \n",
       "std      784.859887     74.314865      6.344923      1.707149     386.75562   \n",
       "min        0.000000      1.000000      0.000000      0.000000      -1.00000   \n",
       "25%       10.000000      2.000000      0.000000      0.000000       1.00000   \n",
       "50%       34.000000      6.000000      0.000000      0.000000       6.00000   \n",
       "75%      106.000000     17.000000      0.000000      0.000000      54.25000   \n",
       "max    80349.000000   5617.000000    632.000000    170.000000    8136.00000   \n",
       "\n",
       "                 if9          if10          if11          if12          if13  \n",
       "count  100000.000000  89676.000000  58530.000000  9.871700e+04  75399.000000  \n",
       "mean        9.382160      0.220215      4.257526  2.234827e+04      9.640499  \n",
       "std        11.942831      0.498195      7.232921  7.564300e+04     28.046654  \n",
       "min         0.000000      0.000000      1.000000  0.000000e+00      0.000000  \n",
       "25%         1.000000      0.000000      1.000000  6.390000e+02      2.000000  \n",
       "50%         4.000000      0.000000      2.000000  3.533000e+03      5.000000  \n",
       "75%        13.000000      0.000000      4.000000  1.303300e+04     11.000000  \n",
       "max       266.000000      7.000000    126.000000  2.333380e+06   3639.000000  "
      ]
     },
     "execution_count": 39,
     "metadata": {},
     "output_type": "execute_result"
    }
   ],
   "source": [
    "df.describe()"
   ]
  },
  {
   "cell_type": "code",
   "execution_count": 102,
   "metadata": {},
   "outputs": [
    {
     "ename": "ValueError",
     "evalue": "could not convert string to float: 'median'",
     "output_type": "error",
     "traceback": [
      "\u001b[0;31m---------------------------------------------------------------------------\u001b[0m",
      "\u001b[0;31mValueError\u001b[0m                                Traceback (most recent call last)",
      "\u001b[0;32m<ipython-input-102-508c4608c120>\u001b[0m in \u001b[0;36m<module>\u001b[0;34m()\u001b[0m\n\u001b[0;32m----> 1\u001b[0;31m \u001b[0mdf\u001b[0m\u001b[0;34m.\u001b[0m\u001b[0mloc\u001b[0m\u001b[0;34m[\u001b[0m\u001b[0;34m:\u001b[0m\u001b[0;34m,\u001b[0m \u001b[0mnumeric_features\u001b[0m\u001b[0;34m]\u001b[0m \u001b[0;34m=\u001b[0m \u001b[0mstandardscaler\u001b[0m\u001b[0;34m.\u001b[0m\u001b[0mfit_transform\u001b[0m\u001b[0;34m(\u001b[0m\u001b[0mdf\u001b[0m\u001b[0;34m.\u001b[0m\u001b[0mloc\u001b[0m\u001b[0;34m[\u001b[0m\u001b[0;34m:\u001b[0m\u001b[0;34m,\u001b[0m \u001b[0mnumeric_features\u001b[0m\u001b[0;34m]\u001b[0m\u001b[0;34m)\u001b[0m\u001b[0;34m\u001b[0m\u001b[0;34m\u001b[0m\u001b[0m\n\u001b[0m",
      "\u001b[0;32m/usr/local/lib/python3.6/dist-packages/sklearn/base.py\u001b[0m in \u001b[0;36mfit_transform\u001b[0;34m(self, X, y, **fit_params)\u001b[0m\n\u001b[1;32m    551\u001b[0m         \u001b[0;32mif\u001b[0m \u001b[0my\u001b[0m \u001b[0;32mis\u001b[0m \u001b[0;32mNone\u001b[0m\u001b[0;34m:\u001b[0m\u001b[0;34m\u001b[0m\u001b[0;34m\u001b[0m\u001b[0m\n\u001b[1;32m    552\u001b[0m             \u001b[0;31m# fit method of arity 1 (unsupervised transformation)\u001b[0m\u001b[0;34m\u001b[0m\u001b[0;34m\u001b[0m\u001b[0;34m\u001b[0m\u001b[0m\n\u001b[0;32m--> 553\u001b[0;31m             \u001b[0;32mreturn\u001b[0m \u001b[0mself\u001b[0m\u001b[0;34m.\u001b[0m\u001b[0mfit\u001b[0m\u001b[0;34m(\u001b[0m\u001b[0mX\u001b[0m\u001b[0;34m,\u001b[0m \u001b[0;34m**\u001b[0m\u001b[0mfit_params\u001b[0m\u001b[0;34m)\u001b[0m\u001b[0;34m.\u001b[0m\u001b[0mtransform\u001b[0m\u001b[0;34m(\u001b[0m\u001b[0mX\u001b[0m\u001b[0;34m)\u001b[0m\u001b[0;34m\u001b[0m\u001b[0;34m\u001b[0m\u001b[0m\n\u001b[0m\u001b[1;32m    554\u001b[0m         \u001b[0;32melse\u001b[0m\u001b[0;34m:\u001b[0m\u001b[0;34m\u001b[0m\u001b[0;34m\u001b[0m\u001b[0m\n\u001b[1;32m    555\u001b[0m             \u001b[0;31m# fit method of arity 2 (supervised transformation)\u001b[0m\u001b[0;34m\u001b[0m\u001b[0;34m\u001b[0m\u001b[0;34m\u001b[0m\u001b[0m\n",
      "\u001b[0;32m/usr/local/lib/python3.6/dist-packages/sklearn/preprocessing/data.py\u001b[0m in \u001b[0;36mfit\u001b[0;34m(self, X, y)\u001b[0m\n\u001b[1;32m    637\u001b[0m         \u001b[0;31m# Reset internal state before fitting\u001b[0m\u001b[0;34m\u001b[0m\u001b[0;34m\u001b[0m\u001b[0;34m\u001b[0m\u001b[0m\n\u001b[1;32m    638\u001b[0m         \u001b[0mself\u001b[0m\u001b[0;34m.\u001b[0m\u001b[0m_reset\u001b[0m\u001b[0;34m(\u001b[0m\u001b[0;34m)\u001b[0m\u001b[0;34m\u001b[0m\u001b[0;34m\u001b[0m\u001b[0m\n\u001b[0;32m--> 639\u001b[0;31m         \u001b[0;32mreturn\u001b[0m \u001b[0mself\u001b[0m\u001b[0;34m.\u001b[0m\u001b[0mpartial_fit\u001b[0m\u001b[0;34m(\u001b[0m\u001b[0mX\u001b[0m\u001b[0;34m,\u001b[0m \u001b[0my\u001b[0m\u001b[0;34m)\u001b[0m\u001b[0;34m\u001b[0m\u001b[0;34m\u001b[0m\u001b[0m\n\u001b[0m\u001b[1;32m    640\u001b[0m \u001b[0;34m\u001b[0m\u001b[0m\n\u001b[1;32m    641\u001b[0m     \u001b[0;32mdef\u001b[0m \u001b[0mpartial_fit\u001b[0m\u001b[0;34m(\u001b[0m\u001b[0mself\u001b[0m\u001b[0;34m,\u001b[0m \u001b[0mX\u001b[0m\u001b[0;34m,\u001b[0m \u001b[0my\u001b[0m\u001b[0;34m=\u001b[0m\u001b[0;32mNone\u001b[0m\u001b[0;34m)\u001b[0m\u001b[0;34m:\u001b[0m\u001b[0;34m\u001b[0m\u001b[0;34m\u001b[0m\u001b[0m\n",
      "\u001b[0;32m/usr/local/lib/python3.6/dist-packages/sklearn/preprocessing/data.py\u001b[0m in \u001b[0;36mpartial_fit\u001b[0;34m(self, X, y)\u001b[0m\n\u001b[1;32m    661\u001b[0m         X = check_array(X, accept_sparse=('csr', 'csc'), copy=self.copy,\n\u001b[1;32m    662\u001b[0m                         \u001b[0mestimator\u001b[0m\u001b[0;34m=\u001b[0m\u001b[0mself\u001b[0m\u001b[0;34m,\u001b[0m \u001b[0mdtype\u001b[0m\u001b[0;34m=\u001b[0m\u001b[0mFLOAT_DTYPES\u001b[0m\u001b[0;34m,\u001b[0m\u001b[0;34m\u001b[0m\u001b[0;34m\u001b[0m\u001b[0m\n\u001b[0;32m--> 663\u001b[0;31m                         force_all_finite='allow-nan')\n\u001b[0m\u001b[1;32m    664\u001b[0m \u001b[0;34m\u001b[0m\u001b[0m\n\u001b[1;32m    665\u001b[0m         \u001b[0;31m# Even in the case of `with_mean=False`, we update the mean anyway\u001b[0m\u001b[0;34m\u001b[0m\u001b[0;34m\u001b[0m\u001b[0;34m\u001b[0m\u001b[0m\n",
      "\u001b[0;32m/usr/local/lib/python3.6/dist-packages/sklearn/utils/validation.py\u001b[0m in \u001b[0;36mcheck_array\u001b[0;34m(array, accept_sparse, accept_large_sparse, dtype, order, copy, force_all_finite, ensure_2d, allow_nd, ensure_min_samples, ensure_min_features, warn_on_dtype, estimator)\u001b[0m\n\u001b[1;32m    494\u001b[0m             \u001b[0;32mtry\u001b[0m\u001b[0;34m:\u001b[0m\u001b[0;34m\u001b[0m\u001b[0;34m\u001b[0m\u001b[0m\n\u001b[1;32m    495\u001b[0m                 \u001b[0mwarnings\u001b[0m\u001b[0;34m.\u001b[0m\u001b[0msimplefilter\u001b[0m\u001b[0;34m(\u001b[0m\u001b[0;34m'error'\u001b[0m\u001b[0;34m,\u001b[0m \u001b[0mComplexWarning\u001b[0m\u001b[0;34m)\u001b[0m\u001b[0;34m\u001b[0m\u001b[0;34m\u001b[0m\u001b[0m\n\u001b[0;32m--> 496\u001b[0;31m                 \u001b[0marray\u001b[0m \u001b[0;34m=\u001b[0m \u001b[0mnp\u001b[0m\u001b[0;34m.\u001b[0m\u001b[0masarray\u001b[0m\u001b[0;34m(\u001b[0m\u001b[0marray\u001b[0m\u001b[0;34m,\u001b[0m \u001b[0mdtype\u001b[0m\u001b[0;34m=\u001b[0m\u001b[0mdtype\u001b[0m\u001b[0;34m,\u001b[0m \u001b[0morder\u001b[0m\u001b[0;34m=\u001b[0m\u001b[0morder\u001b[0m\u001b[0;34m)\u001b[0m\u001b[0;34m\u001b[0m\u001b[0;34m\u001b[0m\u001b[0m\n\u001b[0m\u001b[1;32m    497\u001b[0m             \u001b[0;32mexcept\u001b[0m \u001b[0mComplexWarning\u001b[0m\u001b[0;34m:\u001b[0m\u001b[0;34m\u001b[0m\u001b[0;34m\u001b[0m\u001b[0m\n\u001b[1;32m    498\u001b[0m                 raise ValueError(\"Complex data not supported\\n\"\n",
      "\u001b[0;32m/usr/local/lib/python3.6/dist-packages/numpy/core/numeric.py\u001b[0m in \u001b[0;36masarray\u001b[0;34m(a, dtype, order)\u001b[0m\n\u001b[1;32m    536\u001b[0m \u001b[0;34m\u001b[0m\u001b[0m\n\u001b[1;32m    537\u001b[0m     \"\"\"\n\u001b[0;32m--> 538\u001b[0;31m     \u001b[0;32mreturn\u001b[0m \u001b[0marray\u001b[0m\u001b[0;34m(\u001b[0m\u001b[0ma\u001b[0m\u001b[0;34m,\u001b[0m \u001b[0mdtype\u001b[0m\u001b[0;34m,\u001b[0m \u001b[0mcopy\u001b[0m\u001b[0;34m=\u001b[0m\u001b[0;32mFalse\u001b[0m\u001b[0;34m,\u001b[0m \u001b[0morder\u001b[0m\u001b[0;34m=\u001b[0m\u001b[0morder\u001b[0m\u001b[0;34m)\u001b[0m\u001b[0;34m\u001b[0m\u001b[0;34m\u001b[0m\u001b[0m\n\u001b[0m\u001b[1;32m    539\u001b[0m \u001b[0;34m\u001b[0m\u001b[0m\n\u001b[1;32m    540\u001b[0m \u001b[0;34m\u001b[0m\u001b[0m\n",
      "\u001b[0;31mValueError\u001b[0m: could not convert string to float: 'median'"
     ]
    }
   ],
   "source": []
  },
  {
   "cell_type": "code",
   "execution_count": 93,
   "metadata": {},
   "outputs": [],
   "source": [
    "df = df.iloc[:, 0:14]"
   ]
  },
  {
   "cell_type": "code",
   "execution_count": 94,
   "metadata": {},
   "outputs": [
    {
     "name": "stdout",
     "output_type": "stream",
     "text": [
      "<class 'pandas.core.frame.DataFrame'>\n",
      "RangeIndex: 1000 entries, 0 to 999\n",
      "Data columns (total 14 columns):\n",
      "id       1000 non-null int64\n",
      "label    1000 non-null int64\n",
      "if1      765 non-null float64\n",
      "if2      919 non-null float64\n",
      "if3      723 non-null float64\n",
      "if4      522 non-null float64\n",
      "if5      555 non-null float64\n",
      "if6      903 non-null float64\n",
      "if7      980 non-null float64\n",
      "if8      1000 non-null float64\n",
      "if9      1000 non-null float64\n",
      "if10     903 non-null float64\n",
      "if11     555 non-null float64\n",
      "if12     987 non-null float64\n",
      "dtypes: float64(12), int64(2)\n",
      "memory usage: 109.5 KB\n"
     ]
    }
   ],
   "source": [
    "df.info()"
   ]
  },
  {
   "cell_type": "code",
   "execution_count": null,
   "metadata": {},
   "outputs": [],
   "source": []
  },
  {
   "cell_type": "code",
   "execution_count": null,
   "metadata": {},
   "outputs": [],
   "source": []
  },
  {
   "cell_type": "code",
   "execution_count": 46,
   "metadata": {},
   "outputs": [
    {
     "data": {
      "text/html": [
       "<div>\n",
       "<style scoped>\n",
       "    .dataframe tbody tr th:only-of-type {\n",
       "        vertical-align: middle;\n",
       "    }\n",
       "\n",
       "    .dataframe tbody tr th {\n",
       "        vertical-align: top;\n",
       "    }\n",
       "\n",
       "    .dataframe thead th {\n",
       "        text-align: right;\n",
       "    }\n",
       "</style>\n",
       "<table border=\"1\" class=\"dataframe\">\n",
       "  <thead>\n",
       "    <tr style=\"text-align: right;\">\n",
       "      <th></th>\n",
       "      <th>id</th>\n",
       "      <th>label</th>\n",
       "      <th>if1</th>\n",
       "      <th>if2</th>\n",
       "      <th>if3</th>\n",
       "      <th>if4</th>\n",
       "      <th>if5</th>\n",
       "      <th>if6</th>\n",
       "      <th>if7</th>\n",
       "      <th>if8</th>\n",
       "      <th>if9</th>\n",
       "      <th>if10</th>\n",
       "      <th>if11</th>\n",
       "      <th>if12</th>\n",
       "      <th>if13</th>\n",
       "    </tr>\n",
       "  </thead>\n",
       "  <tbody>\n",
       "    <tr>\n",
       "      <th>count</th>\n",
       "      <td>100000.000000</td>\n",
       "      <td>100000.000000</td>\n",
       "      <td>8.173900e+04</td>\n",
       "      <td>9.025800e+04</td>\n",
       "      <td>7.539900e+04</td>\n",
       "      <td>5.532700e+04</td>\n",
       "      <td>5.853000e+04</td>\n",
       "      <td>8.967600e+04</td>\n",
       "      <td>9.672500e+04</td>\n",
       "      <td>1.000000e+05</td>\n",
       "      <td>1.000000e+05</td>\n",
       "      <td>8.967600e+04</td>\n",
       "      <td>5.853000e+04</td>\n",
       "      <td>9.871700e+04</td>\n",
       "      <td>7.539900e+04</td>\n",
       "    </tr>\n",
       "    <tr>\n",
       "      <th>mean</th>\n",
       "      <td>49999.500000</td>\n",
       "      <td>0.030930</td>\n",
       "      <td>-3.172881e-18</td>\n",
       "      <td>3.774793e-17</td>\n",
       "      <td>4.320798e-17</td>\n",
       "      <td>-1.374159e-17</td>\n",
       "      <td>-1.711712e-17</td>\n",
       "      <td>-3.733923e-17</td>\n",
       "      <td>8.080610e-19</td>\n",
       "      <td>7.904788e-18</td>\n",
       "      <td>-5.101697e-17</td>\n",
       "      <td>6.477415e-18</td>\n",
       "      <td>3.168489e-17</td>\n",
       "      <td>1.040078e-17</td>\n",
       "      <td>1.790516e-18</td>\n",
       "    </tr>\n",
       "    <tr>\n",
       "      <th>std</th>\n",
       "      <td>28867.657797</td>\n",
       "      <td>0.173129</td>\n",
       "      <td>1.000006e+00</td>\n",
       "      <td>1.000006e+00</td>\n",
       "      <td>1.000007e+00</td>\n",
       "      <td>1.000009e+00</td>\n",
       "      <td>1.000009e+00</td>\n",
       "      <td>1.000006e+00</td>\n",
       "      <td>1.000005e+00</td>\n",
       "      <td>1.000005e+00</td>\n",
       "      <td>1.000005e+00</td>\n",
       "      <td>1.000006e+00</td>\n",
       "      <td>1.000009e+00</td>\n",
       "      <td>1.000005e+00</td>\n",
       "      <td>1.000007e+00</td>\n",
       "    </tr>\n",
       "    <tr>\n",
       "      <th>min</th>\n",
       "      <td>0.000000</td>\n",
       "      <td>0.000000</td>\n",
       "      <td>-7.343707e-02</td>\n",
       "      <td>-5.749711e-01</td>\n",
       "      <td>-7.929505e-01</td>\n",
       "      <td>-2.116870e-01</td>\n",
       "      <td>-2.930234e-01</td>\n",
       "      <td>-2.025347e-01</td>\n",
       "      <td>-8.159366e-02</td>\n",
       "      <td>-3.027705e-01</td>\n",
       "      <td>-7.855932e-01</td>\n",
       "      <td>-4.420280e-01</td>\n",
       "      <td>-4.503787e-01</td>\n",
       "      <td>-2.954454e-01</td>\n",
       "      <td>-3.437331e-01</td>\n",
       "    </tr>\n",
       "    <tr>\n",
       "      <th>25%</th>\n",
       "      <td>24999.750000</td>\n",
       "      <td>0.000000</td>\n",
       "      <td>-6.996143e-02</td>\n",
       "      <td>-5.002945e-01</td>\n",
       "      <td>-5.773370e-01</td>\n",
       "      <td>-1.989458e-01</td>\n",
       "      <td>-2.795670e-01</td>\n",
       "      <td>-2.025347e-01</td>\n",
       "      <td>-8.159366e-02</td>\n",
       "      <td>-2.975992e-01</td>\n",
       "      <td>-7.018605e-01</td>\n",
       "      <td>-4.420280e-01</td>\n",
       "      <td>-4.503787e-01</td>\n",
       "      <td>-2.869978e-01</td>\n",
       "      <td>-2.724229e-01</td>\n",
       "    </tr>\n",
       "    <tr>\n",
       "      <th>50%</th>\n",
       "      <td>49999.500000</td>\n",
       "      <td>0.000000</td>\n",
       "      <td>-6.127232e-02</td>\n",
       "      <td>-3.264781e-01</td>\n",
       "      <td>-3.617236e-01</td>\n",
       "      <td>-1.683668e-01</td>\n",
       "      <td>-2.257415e-01</td>\n",
       "      <td>-2.025347e-01</td>\n",
       "      <td>-8.159366e-02</td>\n",
       "      <td>-2.846711e-01</td>\n",
       "      <td>-4.506626e-01</td>\n",
       "      <td>-4.420280e-01</td>\n",
       "      <td>-3.121208e-01</td>\n",
       "      <td>-2.487390e-01</td>\n",
       "      <td>-1.654575e-01</td>\n",
       "    </tr>\n",
       "    <tr>\n",
       "      <th>75%</th>\n",
       "      <td>74999.250000</td>\n",
       "      <td>0.000000</td>\n",
       "      <td>-3.346718e-02</td>\n",
       "      <td>8.810603e-02</td>\n",
       "      <td>1.773101e-01</td>\n",
       "      <td>-7.662985e-02</td>\n",
       "      <td>-7.772142e-02</td>\n",
       "      <td>-2.025347e-01</td>\n",
       "      <td>-8.159366e-02</td>\n",
       "      <td>-1.599147e-01</td>\n",
       "      <td>3.029314e-01</td>\n",
       "      <td>-4.420280e-01</td>\n",
       "      <td>-3.560501e-02</td>\n",
       "      <td>-1.231484e-01</td>\n",
       "      <td>4.847316e-02</td>\n",
       "    </tr>\n",
       "    <tr>\n",
       "      <th>max</th>\n",
       "      <td>99999.000000</td>\n",
       "      <td>1.000000</td>\n",
       "      <td>1.138129e+02</td>\n",
       "      <td>9.721393e+00</td>\n",
       "      <td>3.230372e+01</td>\n",
       "      <td>1.021629e+02</td>\n",
       "      <td>7.527797e+01</td>\n",
       "      <td>9.940522e+01</td>\n",
       "      <td>9.950016e+01</td>\n",
       "      <td>2.073646e+01</td>\n",
       "      <td>2.148729e+01</td>\n",
       "      <td>1.360877e+01</td>\n",
       "      <td>1.683186e+01</td>\n",
       "      <td>3.055198e+01</td>\n",
       "      <td>1.294052e+02</td>\n",
       "    </tr>\n",
       "  </tbody>\n",
       "</table>\n",
       "</div>"
      ],
      "text/plain": [
       "                  id          label           if1           if2           if3  \\\n",
       "count  100000.000000  100000.000000  8.173900e+04  9.025800e+04  7.539900e+04   \n",
       "mean    49999.500000       0.030930 -3.172881e-18  3.774793e-17  4.320798e-17   \n",
       "std     28867.657797       0.173129  1.000006e+00  1.000006e+00  1.000007e+00   \n",
       "min         0.000000       0.000000 -7.343707e-02 -5.749711e-01 -7.929505e-01   \n",
       "25%     24999.750000       0.000000 -6.996143e-02 -5.002945e-01 -5.773370e-01   \n",
       "50%     49999.500000       0.000000 -6.127232e-02 -3.264781e-01 -3.617236e-01   \n",
       "75%     74999.250000       0.000000 -3.346718e-02  8.810603e-02  1.773101e-01   \n",
       "max     99999.000000       1.000000  1.138129e+02  9.721393e+00  3.230372e+01   \n",
       "\n",
       "                if4           if5           if6           if7           if8  \\\n",
       "count  5.532700e+04  5.853000e+04  8.967600e+04  9.672500e+04  1.000000e+05   \n",
       "mean  -1.374159e-17 -1.711712e-17 -3.733923e-17  8.080610e-19  7.904788e-18   \n",
       "std    1.000009e+00  1.000009e+00  1.000006e+00  1.000005e+00  1.000005e+00   \n",
       "min   -2.116870e-01 -2.930234e-01 -2.025347e-01 -8.159366e-02 -3.027705e-01   \n",
       "25%   -1.989458e-01 -2.795670e-01 -2.025347e-01 -8.159366e-02 -2.975992e-01   \n",
       "50%   -1.683668e-01 -2.257415e-01 -2.025347e-01 -8.159366e-02 -2.846711e-01   \n",
       "75%   -7.662985e-02 -7.772142e-02 -2.025347e-01 -8.159366e-02 -1.599147e-01   \n",
       "max    1.021629e+02  7.527797e+01  9.940522e+01  9.950016e+01  2.073646e+01   \n",
       "\n",
       "                if9          if10          if11          if12          if13  \n",
       "count  1.000000e+05  8.967600e+04  5.853000e+04  9.871700e+04  7.539900e+04  \n",
       "mean  -5.101697e-17  6.477415e-18  3.168489e-17  1.040078e-17  1.790516e-18  \n",
       "std    1.000005e+00  1.000006e+00  1.000009e+00  1.000005e+00  1.000007e+00  \n",
       "min   -7.855932e-01 -4.420280e-01 -4.503787e-01 -2.954454e-01 -3.437331e-01  \n",
       "25%   -7.018605e-01 -4.420280e-01 -4.503787e-01 -2.869978e-01 -2.724229e-01  \n",
       "50%   -4.506626e-01 -4.420280e-01 -3.121208e-01 -2.487390e-01 -1.654575e-01  \n",
       "75%    3.029314e-01 -4.420280e-01 -3.560501e-02 -1.231484e-01  4.847316e-02  \n",
       "max    2.148729e+01  1.360877e+01  1.683186e+01  3.055198e+01  1.294052e+02  "
      ]
     },
     "execution_count": 46,
     "metadata": {},
     "output_type": "execute_result"
    }
   ],
   "source": [
    "df.describe()"
   ]
  },
  {
   "cell_type": "code",
   "execution_count": 32,
   "metadata": {},
   "outputs": [],
   "source": [
    "x = onehotencoder.fit_transform(learn.loc[0:20, ['id', 'cf6']])"
   ]
  },
  {
   "cell_type": "code",
   "execution_count": 34,
   "metadata": {},
   "outputs": [
    {
     "name": "stdout",
     "output_type": "stream",
     "text": [
      "  (0, 0)\t1.0\n",
      "  (0, 21)\t1.0\n",
      "  (1, 1)\t1.0\n",
      "  (1, 21)\t1.0\n",
      "  (2, 2)\t1.0\n",
      "  (2, 21)\t1.0\n",
      "  (3, 3)\t1.0\n",
      "  (3, 21)\t1.0\n",
      "  (4, 4)\t1.0\n",
      "  (4, 21)\t1.0\n",
      "  (5, 5)\t1.0\n",
      "  (5, 21)\t1.0\n",
      "  (6, 6)\t1.0\n",
      "  (6, 21)\t1.0\n",
      "  (7, 7)\t1.0\n",
      "  (7, 21)\t1.0\n",
      "  (8, 8)\t1.0\n",
      "  (8, 21)\t1.0\n",
      "  (9, 9)\t1.0\n",
      "  (9, 21)\t1.0\n",
      "  (10, 10)\t1.0\n",
      "  (10, 21)\t1.0\n",
      "  (11, 11)\t1.0\n",
      "  (11, 21)\t1.0\n",
      "  (12, 12)\t1.0\n",
      "  (12, 21)\t1.0\n",
      "  (13, 13)\t1.0\n",
      "  (13, 21)\t1.0\n",
      "  (14, 14)\t1.0\n",
      "  (14, 21)\t1.0\n",
      "  (15, 15)\t1.0\n",
      "  (15, 22)\t1.0\n",
      "  (16, 16)\t1.0\n",
      "  (16, 21)\t1.0\n",
      "  (17, 17)\t1.0\n",
      "  (17, 21)\t1.0\n",
      "  (18, 18)\t1.0\n",
      "  (18, 21)\t1.0\n",
      "  (19, 19)\t1.0\n",
      "  (19, 21)\t1.0\n",
      "  (20, 20)\t1.0\n",
      "  (20, 22)\t1.0\n"
     ]
    }
   ],
   "source": [
    "print(x)"
   ]
  },
  {
   "cell_type": "code",
   "execution_count": null,
   "metadata": {},
   "outputs": [],
   "source": [
    "lear"
   ]
  },
  {
   "cell_type": "code",
   "execution_count": 23,
   "metadata": {},
   "outputs": [
    {
     "ename": "TypeError",
     "evalue": "'OneHotEncoder' object is not callable",
     "output_type": "error",
     "traceback": [
      "\u001b[0;31m---------------------------------------------------------------------------\u001b[0m",
      "\u001b[0;31mTypeError\u001b[0m                                 Traceback (most recent call last)",
      "\u001b[0;32m<ipython-input-23-963e9dbaed1c>\u001b[0m in \u001b[0;36m<module>\u001b[0;34m()\u001b[0m\n\u001b[0;32m----> 1\u001b[0;31m \u001b[0ma\u001b[0m\u001b[0;34m(\u001b[0m\u001b[0mlearn\u001b[0m\u001b[0;34m[\u001b[0m\u001b[0;34m'cf6'\u001b[0m\u001b[0;34m]\u001b[0m\u001b[0;34m)\u001b[0m\u001b[0;34m\u001b[0m\u001b[0;34m\u001b[0m\u001b[0m\n\u001b[0m",
      "\u001b[0;31mTypeError\u001b[0m: 'OneHotEncoder' object is not callable"
     ]
    }
   ],
   "source": [
    "a(learn['cf6'])"
   ]
  },
  {
   "cell_type": "code",
   "execution_count": null,
   "metadata": {},
   "outputs": [],
   "source": []
  },
  {
   "cell_type": "code",
   "execution_count": 35,
   "metadata": {
    "scrolled": false
   },
   "outputs": [
    {
     "name": "stdout",
     "output_type": "stream",
     "text": [
      "cf1\t26527\n",
      "cf2\t5627\n",
      "cf3\t6916\n",
      "cf4\t3214\n",
      "cf5\t7856\n",
      "cf6\t3\n",
      "cf7\t4025\n",
      "cf8\t895\n",
      "cf9\t28\n",
      "cf10\t22841\n",
      "cf11\t9401\n",
      "cf12\t12372\n",
      "cf13\t10\n",
      "cf14\t1198\n",
      "cf15\t2917\n",
      "cf16\t45\n",
      "cf17\t3\n",
      "cf18\t536\n",
      "cf19\t14\n",
      "cf20\t27153\n",
      "cf21\t16638\n",
      "cf22\t25389\n",
      "cf23\t8478\n",
      "cf24\t4743\n",
      "cf25\t41\n",
      "cf26\t27\n",
      "day_number\t1\n"
     ]
    }
   ],
   "source": [
    "for name in categorical_features:\n",
    "    print(name, df[name].nunique(), sep='\\t')"
   ]
  },
  {
   "cell_type": "code",
   "execution_count": 9,
   "metadata": {},
   "outputs": [
    {
     "data": {
      "text/plain": [
       "array([  0.,  nan,   3.,   1.,  17.,   2.,  12.,   4.,   6.,   5.,  82.,\n",
       "       153.,  27.,  10.,   9.,  13.,   7.,  11.,  47.,  25.,  14.,   8.,\n",
       "       170.,  67.,  15.,  43.,  18.,  30.,  45.,  48.,  23.,  24.,  55.,\n",
       "        26.,  28.,  32., 169.,  19.,  20.,  49.,  16.,  29.,  33.,  38.,\n",
       "        93., 129.,  37.,  52.,  34.,  21.,  50.,  41.,  36.,  35.,  98.,\n",
       "        31.,  42.,  53.,  81.,  22.,  74.,  44., 136.,  46.])"
      ]
     },
     "execution_count": 9,
     "metadata": {},
     "output_type": "execute_result"
    }
   ],
   "source": [
    "df.if7.unique()"
   ]
  },
  {
   "cell_type": "code",
   "execution_count": null,
   "metadata": {},
   "outputs": [],
   "source": []
  },
  {
   "cell_type": "code",
   "execution_count": 33,
   "metadata": {},
   "outputs": [
    {
     "data": {
      "text/html": [
       "<div>\n",
       "<style scoped>\n",
       "    .dataframe tbody tr th:only-of-type {\n",
       "        vertical-align: middle;\n",
       "    }\n",
       "\n",
       "    .dataframe tbody tr th {\n",
       "        vertical-align: top;\n",
       "    }\n",
       "\n",
       "    .dataframe thead th {\n",
       "        text-align: right;\n",
       "    }\n",
       "</style>\n",
       "<table border=\"1\" class=\"dataframe\">\n",
       "  <thead>\n",
       "    <tr style=\"text-align: right;\">\n",
       "      <th></th>\n",
       "      <th>id</th>\n",
       "      <th>if1</th>\n",
       "      <th>if2</th>\n",
       "      <th>if3</th>\n",
       "      <th>if4</th>\n",
       "      <th>if5</th>\n",
       "      <th>if6</th>\n",
       "      <th>if7</th>\n",
       "      <th>if8</th>\n",
       "      <th>if9</th>\n",
       "      <th>...</th>\n",
       "      <th>cf18</th>\n",
       "      <th>cf19</th>\n",
       "      <th>cf20</th>\n",
       "      <th>cf21</th>\n",
       "      <th>cf22</th>\n",
       "      <th>cf23</th>\n",
       "      <th>cf24</th>\n",
       "      <th>cf25</th>\n",
       "      <th>cf26</th>\n",
       "      <th>day_number</th>\n",
       "    </tr>\n",
       "    <tr>\n",
       "      <th>label</th>\n",
       "      <th></th>\n",
       "      <th></th>\n",
       "      <th></th>\n",
       "      <th></th>\n",
       "      <th></th>\n",
       "      <th></th>\n",
       "      <th></th>\n",
       "      <th></th>\n",
       "      <th></th>\n",
       "      <th></th>\n",
       "      <th></th>\n",
       "      <th></th>\n",
       "      <th></th>\n",
       "      <th></th>\n",
       "      <th></th>\n",
       "      <th></th>\n",
       "      <th></th>\n",
       "      <th></th>\n",
       "      <th></th>\n",
       "      <th></th>\n",
       "      <th></th>\n",
       "    </tr>\n",
       "  </thead>\n",
       "  <tbody>\n",
       "    <tr>\n",
       "      <th>0</th>\n",
       "      <td>96907</td>\n",
       "      <td>79491</td>\n",
       "      <td>87512</td>\n",
       "      <td>73248</td>\n",
       "      <td>53211</td>\n",
       "      <td>56383</td>\n",
       "      <td>87004</td>\n",
       "      <td>93754</td>\n",
       "      <td>96907</td>\n",
       "      <td>96907</td>\n",
       "      <td>...</td>\n",
       "      <td>96907</td>\n",
       "      <td>96907</td>\n",
       "      <td>93678</td>\n",
       "      <td>93678</td>\n",
       "      <td>93678</td>\n",
       "      <td>62598</td>\n",
       "      <td>96907</td>\n",
       "      <td>96907</td>\n",
       "      <td>96907</td>\n",
       "      <td>96907</td>\n",
       "    </tr>\n",
       "    <tr>\n",
       "      <th>1</th>\n",
       "      <td>3093</td>\n",
       "      <td>2248</td>\n",
       "      <td>2746</td>\n",
       "      <td>2151</td>\n",
       "      <td>2116</td>\n",
       "      <td>2147</td>\n",
       "      <td>2672</td>\n",
       "      <td>2971</td>\n",
       "      <td>3093</td>\n",
       "      <td>3093</td>\n",
       "      <td>...</td>\n",
       "      <td>3093</td>\n",
       "      <td>3093</td>\n",
       "      <td>3004</td>\n",
       "      <td>3004</td>\n",
       "      <td>3004</td>\n",
       "      <td>1792</td>\n",
       "      <td>3093</td>\n",
       "      <td>3093</td>\n",
       "      <td>3093</td>\n",
       "      <td>3093</td>\n",
       "    </tr>\n",
       "  </tbody>\n",
       "</table>\n",
       "<p>2 rows × 41 columns</p>\n",
       "</div>"
      ],
      "text/plain": [
       "          id    if1    if2    if3    if4    if5    if6    if7    if8    if9  \\\n",
       "label                                                                         \n",
       "0      96907  79491  87512  73248  53211  56383  87004  93754  96907  96907   \n",
       "1       3093   2248   2746   2151   2116   2147   2672   2971   3093   3093   \n",
       "\n",
       "       ...   cf18   cf19   cf20   cf21   cf22   cf23   cf24   cf25   cf26  \\\n",
       "label  ...                                                                  \n",
       "0      ...  96907  96907  93678  93678  93678  62598  96907  96907  96907   \n",
       "1      ...   3093   3093   3004   3004   3004   1792   3093   3093   3093   \n",
       "\n",
       "       day_number  \n",
       "label              \n",
       "0           96907  \n",
       "1            3093  \n",
       "\n",
       "[2 rows x 41 columns]"
      ]
     },
     "execution_count": 33,
     "metadata": {},
     "output_type": "execute_result"
    }
   ],
   "source": [
    "df.groupby('label').count()"
   ]
  },
  {
   "cell_type": "code",
   "execution_count": 23,
   "metadata": {},
   "outputs": [
    {
     "name": "stdout",
     "output_type": "stream",
     "text": [
      "<class 'pandas.core.frame.DataFrame'>\n",
      "RangeIndex: 100000 entries, 0 to 99999\n",
      "Data columns (total 42 columns):\n",
      "id            100000 non-null int64\n",
      "label         100000 non-null int64\n",
      "if1           81739 non-null float64\n",
      "if2           90258 non-null float64\n",
      "if3           75399 non-null float64\n",
      "if4           55327 non-null float64\n",
      "if5           58530 non-null float64\n",
      "if6           89676 non-null float64\n",
      "if7           96725 non-null float64\n",
      "if8           100000 non-null int64\n",
      "if9           100000 non-null int64\n",
      "if10          89676 non-null float64\n",
      "if11          58530 non-null float64\n",
      "if12          98717 non-null float64\n",
      "if13          75399 non-null float64\n",
      "cf1           96682 non-null object\n",
      "cf2           100000 non-null object\n",
      "cf3           100000 non-null object\n",
      "cf4           100000 non-null object\n",
      "cf5           100000 non-null object\n",
      "cf6           100000 non-null object\n",
      "cf7           100000 non-null object\n",
      "cf8           100000 non-null object\n",
      "cf9           100000 non-null object\n",
      "cf10          96682 non-null object\n",
      "cf11          96682 non-null object\n",
      "cf12          100000 non-null object\n",
      "cf13          100000 non-null object\n",
      "cf14          64390 non-null object\n",
      "cf15          100000 non-null object\n",
      "cf16          64390 non-null object\n",
      "cf17          64390 non-null object\n",
      "cf18          100000 non-null object\n",
      "cf19          100000 non-null object\n",
      "cf20          96682 non-null object\n",
      "cf21          96682 non-null object\n",
      "cf22          96682 non-null object\n",
      "cf23          64390 non-null object\n",
      "cf24          100000 non-null object\n",
      "cf25          100000 non-null object\n",
      "cf26          100000 non-null object\n",
      "day_number    100000 non-null object\n",
      "dtypes: float64(11), int64(4), object(27)\n",
      "memory usage: 32.0+ MB\n"
     ]
    }
   ],
   "source": [
    "df.info()"
   ]
  },
  {
   "cell_type": "code",
   "execution_count": 5,
   "metadata": {},
   "outputs": [
    {
     "data": {
      "text/plain": [
       "pandas.io.parsers.TextFileReader"
      ]
     },
     "execution_count": 5,
     "metadata": {},
     "output_type": "execute_result"
    }
   ],
   "source": [
    "type(df)"
   ]
  },
  {
   "cell_type": "code",
   "execution_count": 8,
   "metadata": {},
   "outputs": [
    {
     "name": "stdout",
     "output_type": "stream",
     "text": [
      "   id  label   if1   if2  if3     if4  if5  if6  if7  if8  ...      cf18  \\\n",
      "0   0      0   NaN   600    1   342.0    9    0    0   18  ...  b8170bba   \n",
      "1   1      0   NaN  1424    1  1291.0    7    0    0    0  ...  a1eb1511   \n",
      "2   2      0   3.0   239    3     NaN    8    0    0  139  ...  b8170bba   \n",
      "3   3      0  11.0   537    3     NaN    6    0    0  366  ...  a1eb1511   \n",
      "4   4      0   3.0   124   39   398.0    3    0    0    1  ...  a1eb1511   \n",
      "\n",
      "       cf19      cf20      cf21      cf22      cf23      cf24      cf25  \\\n",
      "0  9512c20b  9b6712fa  e611fb63  27fc20dc       NaN  201d7147  57e36578   \n",
      "1  9512c20b  fc33311c  f766202e  e1c2c118       NaN  4ffc2977  ff654802   \n",
      "2  cc7a7d35  156cbe87  96fbe197  15562d5d  d3df7183  10c76e2c  30436bfc   \n",
      "3  cc7a7d35  156cbe87  96fbe197  15562d5d  d3df7183  86c2a370  30436bfc   \n",
      "4  9512c20b  47849e55  73b3f46d  d994ba60       NaN  d3d5ac76  ff654802   \n",
      "\n",
      "       cf26 day_number  \n",
      "0  b757e957      day_0  \n",
      "1  b757e957      day_0  \n",
      "2  e1be5ef2      day_0  \n",
      "3  e1be5ef2      day_0  \n",
      "4  b757e957      day_0  \n",
      "\n",
      "[5 rows x 42 columns]\n"
     ]
    }
   ],
   "source": [
    "print(df.get_chunk(5))"
   ]
  },
  {
   "cell_type": "code",
   "execution_count": 12,
   "metadata": {},
   "outputs": [],
   "source": [
    "df1 = df.get_chunk()"
   ]
  },
  {
   "cell_type": "code",
   "execution_count": 14,
   "metadata": {},
   "outputs": [],
   "source": [
    "df2 = df.get_chunk()"
   ]
  },
  {
   "cell_type": "code",
   "execution_count": 15,
   "metadata": {},
   "outputs": [
    {
     "name": "stdout",
     "output_type": "stream",
     "text": [
      "<class 'pandas.core.frame.DataFrame'>\n",
      "RangeIndex: 100000 entries, 7300000 to 7399999\n",
      "Data columns (total 42 columns):\n",
      "id            100000 non-null int64\n",
      "label         100000 non-null int64\n",
      "if1           78958 non-null float64\n",
      "if2           90410 non-null float64\n",
      "if3           75500 non-null float64\n",
      "if4           68301 non-null float64\n",
      "if5           58888 non-null float64\n",
      "if6           92230 non-null float64\n",
      "if7           97501 non-null float64\n",
      "if8           100000 non-null int64\n",
      "if9           100000 non-null int64\n",
      "if10          92230 non-null float64\n",
      "if11          58888 non-null float64\n",
      "if12          98484 non-null float64\n",
      "if13          75500 non-null float64\n",
      "cf1           94964 non-null object\n",
      "cf2           100000 non-null object\n",
      "cf3           100000 non-null object\n",
      "cf4           100000 non-null object\n",
      "cf5           100000 non-null object\n",
      "cf6           100000 non-null object\n",
      "cf7           100000 non-null object\n",
      "cf8           100000 non-null object\n",
      "cf9           100000 non-null object\n",
      "cf10          94964 non-null object\n",
      "cf11          94964 non-null object\n",
      "cf12          100000 non-null object\n",
      "cf13          100000 non-null object\n",
      "cf14          53633 non-null object\n",
      "cf15          100000 non-null object\n",
      "cf16          53633 non-null object\n",
      "cf17          53633 non-null object\n",
      "cf18          100000 non-null object\n",
      "cf19          100000 non-null object\n",
      "cf20          94964 non-null object\n",
      "cf21          94964 non-null object\n",
      "cf22          94964 non-null object\n",
      "cf23          53633 non-null object\n",
      "cf24          100000 non-null object\n",
      "cf25          100000 non-null object\n",
      "cf26          100000 non-null object\n",
      "day_number    100000 non-null object\n",
      "dtypes: float64(11), int64(4), object(27)\n",
      "memory usage: 32.0+ MB\n"
     ]
    }
   ],
   "source": [
    "df2.info()"
   ]
  },
  {
   "cell_type": "code",
   "execution_count": 13,
   "metadata": {},
   "outputs": [
    {
     "name": "stdout",
     "output_type": "stream",
     "text": [
      "<class 'pandas.core.frame.DataFrame'>\n",
      "RangeIndex: 100000 entries, 7200000 to 7299999\n",
      "Data columns (total 42 columns):\n",
      "id            100000 non-null int64\n",
      "label         100000 non-null int64\n",
      "if1           81299 non-null float64\n",
      "if2           89701 non-null float64\n",
      "if3           76235 non-null float64\n",
      "if4           59969 non-null float64\n",
      "if5           57089 non-null float64\n",
      "if6           91530 non-null float64\n",
      "if7           96923 non-null float64\n",
      "if8           100000 non-null int64\n",
      "if9           100000 non-null int64\n",
      "if10          91530 non-null float64\n",
      "if11          57089 non-null float64\n",
      "if12          98836 non-null float64\n",
      "if13          76235 non-null float64\n",
      "cf1           95227 non-null object\n",
      "cf2           100000 non-null object\n",
      "cf3           100000 non-null object\n",
      "cf4           100000 non-null object\n",
      "cf5           100000 non-null object\n",
      "cf6           100000 non-null object\n",
      "cf7           100000 non-null object\n",
      "cf8           100000 non-null object\n",
      "cf9           100000 non-null object\n",
      "cf10          95227 non-null object\n",
      "cf11          95227 non-null object\n",
      "cf12          100000 non-null object\n",
      "cf13          100000 non-null object\n",
      "cf14          62347 non-null object\n",
      "cf15          100000 non-null object\n",
      "cf16          62347 non-null object\n",
      "cf17          62347 non-null object\n",
      "cf18          100000 non-null object\n",
      "cf19          100000 non-null object\n",
      "cf20          95227 non-null object\n",
      "cf21          95227 non-null object\n",
      "cf22          95227 non-null object\n",
      "cf23          62347 non-null object\n",
      "cf24          100000 non-null object\n",
      "cf25          100000 non-null object\n",
      "cf26          100000 non-null object\n",
      "day_number    100000 non-null object\n",
      "dtypes: float64(11), int64(4), object(27)\n",
      "memory usage: 32.0+ MB\n"
     ]
    }
   ],
   "source": [
    "df1.info()"
   ]
  },
  {
   "cell_type": "code",
   "execution_count": null,
   "metadata": {},
   "outputs": [],
   "source": []
  },
  {
   "cell_type": "code",
   "execution_count": 5,
   "metadata": {},
   "outputs": [
    {
     "data": {
      "text/plain": [
       "pandas.io.parsers.TextFileReader"
      ]
     },
     "execution_count": 5,
     "metadata": {},
     "output_type": "execute_result"
    }
   ],
   "source": [
    "type(df)"
   ]
  },
  {
   "cell_type": "code",
   "execution_count": 4,
   "metadata": {},
   "outputs": [
    {
     "ename": "AttributeError",
     "evalue": "'TextFileReader' object has no attribute 'info'",
     "output_type": "error",
     "traceback": [
      "\u001b[0;31m---------------------------------------------------------------------------\u001b[0m",
      "\u001b[0;31mAttributeError\u001b[0m                            Traceback (most recent call last)",
      "\u001b[0;32m<ipython-input-4-a74c58233b9e>\u001b[0m in \u001b[0;36m<module>\u001b[0;34m()\u001b[0m\n\u001b[0;32m----> 1\u001b[0;31m \u001b[0mdf\u001b[0m\u001b[0;34m.\u001b[0m\u001b[0minfo\u001b[0m\u001b[0;34m(\u001b[0m\u001b[0;34m)\u001b[0m\u001b[0;34m\u001b[0m\u001b[0;34m\u001b[0m\u001b[0m\n\u001b[0m",
      "\u001b[0;31mAttributeError\u001b[0m: 'TextFileReader' object has no attribute 'info'"
     ]
    }
   ],
   "source": [
    "df.info()"
   ]
  },
  {
   "cell_type": "code",
   "execution_count": 2,
   "metadata": {},
   "outputs": [
    {
     "data": {
      "text/plain": [
       "['id',\n",
       " 'label',\n",
       " 'if1',\n",
       " 'if2',\n",
       " 'if3',\n",
       " 'if4',\n",
       " 'if5',\n",
       " 'if6',\n",
       " 'if7',\n",
       " 'if8',\n",
       " 'if9',\n",
       " 'if10',\n",
       " 'if11',\n",
       " 'if12',\n",
       " 'if13',\n",
       " 'cf1',\n",
       " 'cf2',\n",
       " 'cf3',\n",
       " 'cf4',\n",
       " 'cf5',\n",
       " 'cf6',\n",
       " 'cf7',\n",
       " 'cf8',\n",
       " 'cf9',\n",
       " 'cf10',\n",
       " 'cf11',\n",
       " 'cf12',\n",
       " 'cf13',\n",
       " 'cf14',\n",
       " 'cf15',\n",
       " 'cf16',\n",
       " 'cf17',\n",
       " 'cf18',\n",
       " 'cf19',\n",
       " 'cf20',\n",
       " 'cf21',\n",
       " 'cf22',\n",
       " 'cf23',\n",
       " 'cf24',\n",
       " 'cf25',\n",
       " 'cf26',\n",
       " 'day_number']"
      ]
     },
     "execution_count": 2,
     "metadata": {},
     "output_type": "execute_result"
    }
   ],
   "source": [
    "fields"
   ]
  }
 ],
 "metadata": {
  "kernelspec": {
   "display_name": "Python 3",
   "language": "python",
   "name": "python3"
  },
  "language_info": {
   "codemirror_mode": {
    "name": "ipython",
    "version": 3
   },
   "file_extension": ".py",
   "mimetype": "text/x-python",
   "name": "python",
   "nbconvert_exporter": "python",
   "pygments_lexer": "ipython3",
   "version": "3.6.8"
  }
 },
 "nbformat": 4,
 "nbformat_minor": 2
}
